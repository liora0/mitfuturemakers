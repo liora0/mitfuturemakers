{
  "nbformat": 4,
  "nbformat_minor": 0,
  "metadata": {
    "colab": {
      "name": "HousingPrices",
      "provenance": [],
      "authorship_tag": "ABX9TyPsCnDyVi4+f1NmeTnXct3G",
      "include_colab_link": true
    },
    "kernelspec": {
      "name": "python3",
      "display_name": "Python 3"
    },
    "language_info": {
      "name": "python"
    }
  },
  "cells": [
    {
      "cell_type": "markdown",
      "metadata": {
        "id": "view-in-github",
        "colab_type": "text"
      },
      "source": [
        "<a href=\"https://colab.research.google.com/github/liora0/mitfuturemakers/blob/main/HousingPrices.ipynb\" target=\"_parent\"><img src=\"https://colab.research.google.com/assets/colab-badge.svg\" alt=\"Open In Colab\"/></a>"
      ]
    },
    {
      "cell_type": "code",
      "metadata": {
        "id": "WrBG8x7aWaIb"
      },
      "source": [
        "import pandas as pd\n",
        "df = pd.read_csv('housepricedata.csv')"
      ],
      "execution_count": 3,
      "outputs": []
    },
    {
      "cell_type": "code",
      "metadata": {
        "id": "WVtcTOkvX4AX"
      },
      "source": [
        "df = pd.read_csv('housepricedata.csv')"
      ],
      "execution_count": null,
      "outputs": []
    },
    {
      "cell_type": "code",
      "metadata": {
        "colab": {
          "base_uri": "https://localhost:8080/",
          "height": 419
        },
        "id": "WPMgeK5-X4KJ",
        "outputId": "82f28d55-00d0-45d1-bf3e-0815553cc276"
      },
      "source": [
        "df"
      ],
      "execution_count": 4,
      "outputs": [
        {
          "output_type": "execute_result",
          "data": {
            "text/html": [
              "<div>\n",
              "<style scoped>\n",
              "    .dataframe tbody tr th:only-of-type {\n",
              "        vertical-align: middle;\n",
              "    }\n",
              "\n",
              "    .dataframe tbody tr th {\n",
              "        vertical-align: top;\n",
              "    }\n",
              "\n",
              "    .dataframe thead th {\n",
              "        text-align: right;\n",
              "    }\n",
              "</style>\n",
              "<table border=\"1\" class=\"dataframe\">\n",
              "  <thead>\n",
              "    <tr style=\"text-align: right;\">\n",
              "      <th></th>\n",
              "      <th>LotArea</th>\n",
              "      <th>OverallQual</th>\n",
              "      <th>OverallCond</th>\n",
              "      <th>TotalBsmtSF</th>\n",
              "      <th>FullBath</th>\n",
              "      <th>HalfBath</th>\n",
              "      <th>BedroomAbvGr</th>\n",
              "      <th>TotRmsAbvGrd</th>\n",
              "      <th>Fireplaces</th>\n",
              "      <th>GarageArea</th>\n",
              "      <th>AboveMedianPrice</th>\n",
              "    </tr>\n",
              "  </thead>\n",
              "  <tbody>\n",
              "    <tr>\n",
              "      <th>0</th>\n",
              "      <td>8450</td>\n",
              "      <td>7</td>\n",
              "      <td>5</td>\n",
              "      <td>856</td>\n",
              "      <td>2</td>\n",
              "      <td>1</td>\n",
              "      <td>3</td>\n",
              "      <td>8</td>\n",
              "      <td>0</td>\n",
              "      <td>548</td>\n",
              "      <td>1</td>\n",
              "    </tr>\n",
              "    <tr>\n",
              "      <th>1</th>\n",
              "      <td>9600</td>\n",
              "      <td>6</td>\n",
              "      <td>8</td>\n",
              "      <td>1262</td>\n",
              "      <td>2</td>\n",
              "      <td>0</td>\n",
              "      <td>3</td>\n",
              "      <td>6</td>\n",
              "      <td>1</td>\n",
              "      <td>460</td>\n",
              "      <td>1</td>\n",
              "    </tr>\n",
              "    <tr>\n",
              "      <th>2</th>\n",
              "      <td>11250</td>\n",
              "      <td>7</td>\n",
              "      <td>5</td>\n",
              "      <td>920</td>\n",
              "      <td>2</td>\n",
              "      <td>1</td>\n",
              "      <td>3</td>\n",
              "      <td>6</td>\n",
              "      <td>1</td>\n",
              "      <td>608</td>\n",
              "      <td>1</td>\n",
              "    </tr>\n",
              "    <tr>\n",
              "      <th>3</th>\n",
              "      <td>9550</td>\n",
              "      <td>7</td>\n",
              "      <td>5</td>\n",
              "      <td>756</td>\n",
              "      <td>1</td>\n",
              "      <td>0</td>\n",
              "      <td>3</td>\n",
              "      <td>7</td>\n",
              "      <td>1</td>\n",
              "      <td>642</td>\n",
              "      <td>0</td>\n",
              "    </tr>\n",
              "    <tr>\n",
              "      <th>4</th>\n",
              "      <td>14260</td>\n",
              "      <td>8</td>\n",
              "      <td>5</td>\n",
              "      <td>1145</td>\n",
              "      <td>2</td>\n",
              "      <td>1</td>\n",
              "      <td>4</td>\n",
              "      <td>9</td>\n",
              "      <td>1</td>\n",
              "      <td>836</td>\n",
              "      <td>1</td>\n",
              "    </tr>\n",
              "    <tr>\n",
              "      <th>...</th>\n",
              "      <td>...</td>\n",
              "      <td>...</td>\n",
              "      <td>...</td>\n",
              "      <td>...</td>\n",
              "      <td>...</td>\n",
              "      <td>...</td>\n",
              "      <td>...</td>\n",
              "      <td>...</td>\n",
              "      <td>...</td>\n",
              "      <td>...</td>\n",
              "      <td>...</td>\n",
              "    </tr>\n",
              "    <tr>\n",
              "      <th>1455</th>\n",
              "      <td>7917</td>\n",
              "      <td>6</td>\n",
              "      <td>5</td>\n",
              "      <td>953</td>\n",
              "      <td>2</td>\n",
              "      <td>1</td>\n",
              "      <td>3</td>\n",
              "      <td>7</td>\n",
              "      <td>1</td>\n",
              "      <td>460</td>\n",
              "      <td>1</td>\n",
              "    </tr>\n",
              "    <tr>\n",
              "      <th>1456</th>\n",
              "      <td>13175</td>\n",
              "      <td>6</td>\n",
              "      <td>6</td>\n",
              "      <td>1542</td>\n",
              "      <td>2</td>\n",
              "      <td>0</td>\n",
              "      <td>3</td>\n",
              "      <td>7</td>\n",
              "      <td>2</td>\n",
              "      <td>500</td>\n",
              "      <td>1</td>\n",
              "    </tr>\n",
              "    <tr>\n",
              "      <th>1457</th>\n",
              "      <td>9042</td>\n",
              "      <td>7</td>\n",
              "      <td>9</td>\n",
              "      <td>1152</td>\n",
              "      <td>2</td>\n",
              "      <td>0</td>\n",
              "      <td>4</td>\n",
              "      <td>9</td>\n",
              "      <td>2</td>\n",
              "      <td>252</td>\n",
              "      <td>1</td>\n",
              "    </tr>\n",
              "    <tr>\n",
              "      <th>1458</th>\n",
              "      <td>9717</td>\n",
              "      <td>5</td>\n",
              "      <td>6</td>\n",
              "      <td>1078</td>\n",
              "      <td>1</td>\n",
              "      <td>0</td>\n",
              "      <td>2</td>\n",
              "      <td>5</td>\n",
              "      <td>0</td>\n",
              "      <td>240</td>\n",
              "      <td>0</td>\n",
              "    </tr>\n",
              "    <tr>\n",
              "      <th>1459</th>\n",
              "      <td>9937</td>\n",
              "      <td>5</td>\n",
              "      <td>6</td>\n",
              "      <td>1256</td>\n",
              "      <td>1</td>\n",
              "      <td>1</td>\n",
              "      <td>3</td>\n",
              "      <td>6</td>\n",
              "      <td>0</td>\n",
              "      <td>276</td>\n",
              "      <td>0</td>\n",
              "    </tr>\n",
              "  </tbody>\n",
              "</table>\n",
              "<p>1460 rows × 11 columns</p>\n",
              "</div>"
            ],
            "text/plain": [
              "      LotArea  OverallQual  ...  GarageArea  AboveMedianPrice\n",
              "0        8450            7  ...         548                 1\n",
              "1        9600            6  ...         460                 1\n",
              "2       11250            7  ...         608                 1\n",
              "3        9550            7  ...         642                 0\n",
              "4       14260            8  ...         836                 1\n",
              "...       ...          ...  ...         ...               ...\n",
              "1455     7917            6  ...         460                 1\n",
              "1456    13175            6  ...         500                 1\n",
              "1457     9042            7  ...         252                 1\n",
              "1458     9717            5  ...         240                 0\n",
              "1459     9937            5  ...         276                 0\n",
              "\n",
              "[1460 rows x 11 columns]"
            ]
          },
          "metadata": {
            "tags": []
          },
          "execution_count": 4
        }
      ]
    },
    {
      "cell_type": "code",
      "metadata": {
        "id": "2vRkIliuX8-r"
      },
      "source": [
        "dataset = df.values"
      ],
      "execution_count": 6,
      "outputs": []
    },
    {
      "cell_type": "code",
      "metadata": {
        "colab": {
          "base_uri": "https://localhost:8080/"
        },
        "id": "kHE0LsSFYYK9",
        "outputId": "c02d1f89-5e73-4b1f-f82a-003d728dcc89"
      },
      "source": [
        "dataset"
      ],
      "execution_count": 7,
      "outputs": [
        {
          "output_type": "execute_result",
          "data": {
            "text/plain": [
              "array([[ 8450,     7,     5, ...,     0,   548,     1],\n",
              "       [ 9600,     6,     8, ...,     1,   460,     1],\n",
              "       [11250,     7,     5, ...,     1,   608,     1],\n",
              "       ...,\n",
              "       [ 9042,     7,     9, ...,     2,   252,     1],\n",
              "       [ 9717,     5,     6, ...,     0,   240,     0],\n",
              "       [ 9937,     5,     6, ...,     0,   276,     0]])"
            ]
          },
          "metadata": {
            "tags": []
          },
          "execution_count": 7
        }
      ]
    },
    {
      "cell_type": "code",
      "metadata": {
        "id": "2tKH-5g-Yf0k"
      },
      "source": [
        "X = dataset[:,0:10]"
      ],
      "execution_count": 9,
      "outputs": []
    },
    {
      "cell_type": "code",
      "metadata": {
        "id": "RSCnLZUQYh3q"
      },
      "source": [
        "Y = dataset[:,10]"
      ],
      "execution_count": 10,
      "outputs": []
    },
    {
      "cell_type": "code",
      "metadata": {
        "id": "dz3ga_FlYlVa"
      },
      "source": [
        "from sklearn import preprocessing"
      ],
      "execution_count": 13,
      "outputs": []
    },
    {
      "cell_type": "code",
      "metadata": {
        "id": "Xpna4m_LYrwM"
      },
      "source": [
        "min_max_scaler = preprocessing.MinMaxScaler()\n",
        "X_scale = min_max_scaler.fit_transform(X)"
      ],
      "execution_count": 14,
      "outputs": []
    },
    {
      "cell_type": "code",
      "metadata": {
        "colab": {
          "base_uri": "https://localhost:8080/"
        },
        "id": "BU5sA2OEYxG6",
        "outputId": "717a784b-3c96-449d-f3b1-612409982e0f"
      },
      "source": [
        "X_scale"
      ],
      "execution_count": 15,
      "outputs": [
        {
          "output_type": "execute_result",
          "data": {
            "text/plain": [
              "array([[0.0334198 , 0.66666667, 0.5       , ..., 0.5       , 0.        ,\n",
              "        0.3864598 ],\n",
              "       [0.03879502, 0.55555556, 0.875     , ..., 0.33333333, 0.33333333,\n",
              "        0.32440056],\n",
              "       [0.04650728, 0.66666667, 0.5       , ..., 0.33333333, 0.33333333,\n",
              "        0.42877292],\n",
              "       ...,\n",
              "       [0.03618687, 0.66666667, 1.        , ..., 0.58333333, 0.66666667,\n",
              "        0.17771509],\n",
              "       [0.03934189, 0.44444444, 0.625     , ..., 0.25      , 0.        ,\n",
              "        0.16925247],\n",
              "       [0.04037019, 0.44444444, 0.625     , ..., 0.33333333, 0.        ,\n",
              "        0.19464034]])"
            ]
          },
          "metadata": {
            "tags": []
          },
          "execution_count": 15
        }
      ]
    },
    {
      "cell_type": "code",
      "metadata": {
        "id": "w1Hwxm9OYzoF"
      },
      "source": [
        "from sklearn.model_selection import train_test_split"
      ],
      "execution_count": 16,
      "outputs": []
    },
    {
      "cell_type": "code",
      "metadata": {
        "id": "9afxn7V6Y8Gg"
      },
      "source": [
        "X_train, X_val_and_test, Y_train, Y_val_and_test = train_test_split(X_scale, Y, test_size=0.3)"
      ],
      "execution_count": 17,
      "outputs": []
    },
    {
      "cell_type": "code",
      "metadata": {
        "id": "wfQPzzsNY_JR"
      },
      "source": [
        "X_val, X_test, Y_val, Y_test = train_test_split(X_val_and_test, Y_val_and_test, test_size=0.5)"
      ],
      "execution_count": 18,
      "outputs": []
    },
    {
      "cell_type": "code",
      "metadata": {
        "colab": {
          "base_uri": "https://localhost:8080/"
        },
        "id": "9_ag2QxFZBhZ",
        "outputId": "79197f1e-5e5f-4fae-a767-29f834e4446c"
      },
      "source": [
        "print(X_train.shape, X_val.shape, X_test.shape, Y_train.shape, Y_val.shape, Y_test.shape)"
      ],
      "execution_count": 19,
      "outputs": [
        {
          "output_type": "stream",
          "text": [
            "(1022, 10) (219, 10) (219, 10) (1022,) (219,) (219,)\n"
          ],
          "name": "stdout"
        }
      ]
    },
    {
      "cell_type": "code",
      "metadata": {
        "id": "OdSISHHiZE-R"
      },
      "source": [
        "from keras.models import Sequential\n",
        "from keras.layers import Dense"
      ],
      "execution_count": 20,
      "outputs": []
    },
    {
      "cell_type": "code",
      "metadata": {
        "id": "4UkPJdugcZJD"
      },
      "source": [
        "model = Sequential([\n",
        "    Dense(32, activation='relu', input_shape=(10,)),\n",
        "    Dense(32, activation='relu'),\n",
        "    Dense(1, activation='sigmoid'),\n",
        "])"
      ],
      "execution_count": 21,
      "outputs": []
    },
    {
      "cell_type": "code",
      "metadata": {
        "id": "KUWh-7QmcdIe"
      },
      "source": [
        "model.compile(optimizer='sgd',\n",
        "              loss='binary_crossentropy',\n",
        "              metrics=['accuracy'])"
      ],
      "execution_count": 22,
      "outputs": []
    },
    {
      "cell_type": "code",
      "metadata": {
        "colab": {
          "base_uri": "https://localhost:8080/"
        },
        "id": "I2Tp7vMQcgHM",
        "outputId": "733466eb-37c0-494e-a3dc-be619e52c2c1"
      },
      "source": [
        "hist = model.fit(X_train, Y_train,\n",
        "          batch_size=32, epochs=100,\n",
        "          validation_data=(X_val, Y_val))"
      ],
      "execution_count": 23,
      "outputs": [
        {
          "output_type": "stream",
          "text": [
            "Epoch 1/100\n",
            "32/32 [==============================] - 14s 17ms/step - loss: 0.6958 - accuracy: 0.5069 - val_loss: 0.6926 - val_accuracy: 0.4977\n",
            "Epoch 2/100\n",
            "32/32 [==============================] - 0s 2ms/step - loss: 0.6897 - accuracy: 0.5051 - val_loss: 0.6863 - val_accuracy: 0.4977\n",
            "Epoch 3/100\n",
            "32/32 [==============================] - 0s 2ms/step - loss: 0.6850 - accuracy: 0.4933 - val_loss: 0.6807 - val_accuracy: 0.5023\n",
            "Epoch 4/100\n",
            "32/32 [==============================] - 0s 2ms/step - loss: 0.6791 - accuracy: 0.4960 - val_loss: 0.6760 - val_accuracy: 0.5023\n",
            "Epoch 5/100\n",
            "32/32 [==============================] - 0s 3ms/step - loss: 0.6760 - accuracy: 0.4938 - val_loss: 0.6715 - val_accuracy: 0.5114\n",
            "Epoch 6/100\n",
            "32/32 [==============================] - 0s 2ms/step - loss: 0.6668 - accuracy: 0.5188 - val_loss: 0.6669 - val_accuracy: 0.5205\n",
            "Epoch 7/100\n",
            "32/32 [==============================] - 0s 2ms/step - loss: 0.6645 - accuracy: 0.5211 - val_loss: 0.6617 - val_accuracy: 0.5388\n",
            "Epoch 8/100\n",
            "32/32 [==============================] - 0s 2ms/step - loss: 0.6544 - accuracy: 0.5819 - val_loss: 0.6560 - val_accuracy: 0.6119\n",
            "Epoch 9/100\n",
            "32/32 [==============================] - 0s 2ms/step - loss: 0.6519 - accuracy: 0.6195 - val_loss: 0.6500 - val_accuracy: 0.6484\n",
            "Epoch 10/100\n",
            "32/32 [==============================] - 0s 2ms/step - loss: 0.6468 - accuracy: 0.6438 - val_loss: 0.6442 - val_accuracy: 0.6621\n",
            "Epoch 11/100\n",
            "32/32 [==============================] - 0s 2ms/step - loss: 0.6381 - accuracy: 0.6879 - val_loss: 0.6384 - val_accuracy: 0.6849\n",
            "Epoch 12/100\n",
            "32/32 [==============================] - 0s 2ms/step - loss: 0.6342 - accuracy: 0.7044 - val_loss: 0.6324 - val_accuracy: 0.6986\n",
            "Epoch 13/100\n",
            "32/32 [==============================] - 0s 2ms/step - loss: 0.6289 - accuracy: 0.7464 - val_loss: 0.6261 - val_accuracy: 0.7260\n",
            "Epoch 14/100\n",
            "32/32 [==============================] - 0s 2ms/step - loss: 0.6267 - accuracy: 0.7324 - val_loss: 0.6195 - val_accuracy: 0.7306\n",
            "Epoch 15/100\n",
            "32/32 [==============================] - 0s 2ms/step - loss: 0.6089 - accuracy: 0.7713 - val_loss: 0.6130 - val_accuracy: 0.7671\n",
            "Epoch 16/100\n",
            "32/32 [==============================] - 0s 2ms/step - loss: 0.6122 - accuracy: 0.7705 - val_loss: 0.6066 - val_accuracy: 0.7717\n",
            "Epoch 17/100\n",
            "32/32 [==============================] - 0s 2ms/step - loss: 0.5958 - accuracy: 0.7985 - val_loss: 0.5999 - val_accuracy: 0.7854\n",
            "Epoch 18/100\n",
            "32/32 [==============================] - 0s 3ms/step - loss: 0.5931 - accuracy: 0.7862 - val_loss: 0.5929 - val_accuracy: 0.7991\n",
            "Epoch 19/100\n",
            "32/32 [==============================] - 0s 3ms/step - loss: 0.5905 - accuracy: 0.8046 - val_loss: 0.5860 - val_accuracy: 0.7945\n",
            "Epoch 20/100\n",
            "32/32 [==============================] - 0s 2ms/step - loss: 0.5831 - accuracy: 0.7953 - val_loss: 0.5784 - val_accuracy: 0.8082\n",
            "Epoch 21/100\n",
            "32/32 [==============================] - 0s 2ms/step - loss: 0.5759 - accuracy: 0.8147 - val_loss: 0.5707 - val_accuracy: 0.8128\n",
            "Epoch 22/100\n",
            "32/32 [==============================] - 0s 2ms/step - loss: 0.5608 - accuracy: 0.8334 - val_loss: 0.5628 - val_accuracy: 0.8174\n",
            "Epoch 23/100\n",
            "32/32 [==============================] - 0s 2ms/step - loss: 0.5555 - accuracy: 0.8360 - val_loss: 0.5549 - val_accuracy: 0.8174\n",
            "Epoch 24/100\n",
            "32/32 [==============================] - 0s 3ms/step - loss: 0.5555 - accuracy: 0.8337 - val_loss: 0.5469 - val_accuracy: 0.8174\n",
            "Epoch 25/100\n",
            "32/32 [==============================] - 0s 2ms/step - loss: 0.5465 - accuracy: 0.8330 - val_loss: 0.5385 - val_accuracy: 0.8174\n",
            "Epoch 26/100\n",
            "32/32 [==============================] - 0s 2ms/step - loss: 0.5362 - accuracy: 0.8388 - val_loss: 0.5299 - val_accuracy: 0.8174\n",
            "Epoch 27/100\n",
            "32/32 [==============================] - 0s 2ms/step - loss: 0.5191 - accuracy: 0.8540 - val_loss: 0.5213 - val_accuracy: 0.8311\n",
            "Epoch 28/100\n",
            "32/32 [==============================] - 0s 3ms/step - loss: 0.5273 - accuracy: 0.8187 - val_loss: 0.5126 - val_accuracy: 0.8356\n",
            "Epoch 29/100\n",
            "32/32 [==============================] - 0s 2ms/step - loss: 0.4995 - accuracy: 0.8616 - val_loss: 0.5039 - val_accuracy: 0.8447\n",
            "Epoch 30/100\n",
            "32/32 [==============================] - 0s 2ms/step - loss: 0.4986 - accuracy: 0.8589 - val_loss: 0.4951 - val_accuracy: 0.8447\n",
            "Epoch 31/100\n",
            "32/32 [==============================] - 0s 2ms/step - loss: 0.5060 - accuracy: 0.8392 - val_loss: 0.4866 - val_accuracy: 0.8447\n",
            "Epoch 32/100\n",
            "32/32 [==============================] - 0s 2ms/step - loss: 0.4874 - accuracy: 0.8458 - val_loss: 0.4778 - val_accuracy: 0.8493\n",
            "Epoch 33/100\n",
            "32/32 [==============================] - 0s 3ms/step - loss: 0.4759 - accuracy: 0.8615 - val_loss: 0.4696 - val_accuracy: 0.8493\n",
            "Epoch 34/100\n",
            "32/32 [==============================] - 0s 3ms/step - loss: 0.4643 - accuracy: 0.8512 - val_loss: 0.4606 - val_accuracy: 0.8539\n",
            "Epoch 35/100\n",
            "32/32 [==============================] - 0s 3ms/step - loss: 0.4610 - accuracy: 0.8608 - val_loss: 0.4525 - val_accuracy: 0.8539\n",
            "Epoch 36/100\n",
            "32/32 [==============================] - 0s 2ms/step - loss: 0.4541 - accuracy: 0.8587 - val_loss: 0.4439 - val_accuracy: 0.8584\n",
            "Epoch 37/100\n",
            "32/32 [==============================] - 0s 2ms/step - loss: 0.4387 - accuracy: 0.8666 - val_loss: 0.4356 - val_accuracy: 0.8676\n",
            "Epoch 38/100\n",
            "32/32 [==============================] - 0s 2ms/step - loss: 0.4345 - accuracy: 0.8664 - val_loss: 0.4278 - val_accuracy: 0.8676\n",
            "Epoch 39/100\n",
            "32/32 [==============================] - 0s 2ms/step - loss: 0.4329 - accuracy: 0.8671 - val_loss: 0.4212 - val_accuracy: 0.8584\n",
            "Epoch 40/100\n",
            "32/32 [==============================] - 0s 2ms/step - loss: 0.4226 - accuracy: 0.8688 - val_loss: 0.4132 - val_accuracy: 0.8630\n",
            "Epoch 41/100\n",
            "32/32 [==============================] - 0s 3ms/step - loss: 0.4154 - accuracy: 0.8639 - val_loss: 0.4051 - val_accuracy: 0.8767\n",
            "Epoch 42/100\n",
            "32/32 [==============================] - 0s 2ms/step - loss: 0.4062 - accuracy: 0.8692 - val_loss: 0.3985 - val_accuracy: 0.8767\n",
            "Epoch 43/100\n",
            "32/32 [==============================] - 0s 2ms/step - loss: 0.3977 - accuracy: 0.8642 - val_loss: 0.3919 - val_accuracy: 0.8767\n",
            "Epoch 44/100\n",
            "32/32 [==============================] - 0s 2ms/step - loss: 0.4037 - accuracy: 0.8589 - val_loss: 0.3853 - val_accuracy: 0.8813\n",
            "Epoch 45/100\n",
            "32/32 [==============================] - 0s 2ms/step - loss: 0.3918 - accuracy: 0.8711 - val_loss: 0.3797 - val_accuracy: 0.8767\n",
            "Epoch 46/100\n",
            "32/32 [==============================] - 0s 2ms/step - loss: 0.3810 - accuracy: 0.8656 - val_loss: 0.3746 - val_accuracy: 0.8767\n",
            "Epoch 47/100\n",
            "32/32 [==============================] - 0s 2ms/step - loss: 0.3823 - accuracy: 0.8686 - val_loss: 0.3687 - val_accuracy: 0.8767\n",
            "Epoch 48/100\n",
            "32/32 [==============================] - 0s 2ms/step - loss: 0.3772 - accuracy: 0.8626 - val_loss: 0.3633 - val_accuracy: 0.8767\n",
            "Epoch 49/100\n",
            "32/32 [==============================] - 0s 3ms/step - loss: 0.3688 - accuracy: 0.8705 - val_loss: 0.3574 - val_accuracy: 0.8767\n",
            "Epoch 50/100\n",
            "32/32 [==============================] - 0s 2ms/step - loss: 0.3621 - accuracy: 0.8830 - val_loss: 0.3537 - val_accuracy: 0.8767\n",
            "Epoch 51/100\n",
            "32/32 [==============================] - 0s 2ms/step - loss: 0.3682 - accuracy: 0.8693 - val_loss: 0.3504 - val_accuracy: 0.8767\n",
            "Epoch 52/100\n",
            "32/32 [==============================] - 0s 2ms/step - loss: 0.3728 - accuracy: 0.8597 - val_loss: 0.3445 - val_accuracy: 0.8767\n",
            "Epoch 53/100\n",
            "32/32 [==============================] - 0s 2ms/step - loss: 0.3373 - accuracy: 0.8813 - val_loss: 0.3412 - val_accuracy: 0.8767\n",
            "Epoch 54/100\n",
            "32/32 [==============================] - 0s 2ms/step - loss: 0.3346 - accuracy: 0.8861 - val_loss: 0.3377 - val_accuracy: 0.8767\n",
            "Epoch 55/100\n",
            "32/32 [==============================] - 0s 2ms/step - loss: 0.3605 - accuracy: 0.8611 - val_loss: 0.3333 - val_accuracy: 0.8767\n",
            "Epoch 56/100\n",
            "32/32 [==============================] - 0s 3ms/step - loss: 0.3566 - accuracy: 0.8622 - val_loss: 0.3315 - val_accuracy: 0.8767\n",
            "Epoch 57/100\n",
            "32/32 [==============================] - 0s 2ms/step - loss: 0.3273 - accuracy: 0.8837 - val_loss: 0.3267 - val_accuracy: 0.8813\n",
            "Epoch 58/100\n",
            "32/32 [==============================] - 0s 2ms/step - loss: 0.3365 - accuracy: 0.8748 - val_loss: 0.3247 - val_accuracy: 0.8767\n",
            "Epoch 59/100\n",
            "32/32 [==============================] - 0s 2ms/step - loss: 0.3318 - accuracy: 0.8665 - val_loss: 0.3199 - val_accuracy: 0.8858\n",
            "Epoch 60/100\n",
            "32/32 [==============================] - 0s 2ms/step - loss: 0.3346 - accuracy: 0.8645 - val_loss: 0.3174 - val_accuracy: 0.8858\n",
            "Epoch 61/100\n",
            "32/32 [==============================] - 0s 2ms/step - loss: 0.3290 - accuracy: 0.8744 - val_loss: 0.3150 - val_accuracy: 0.8858\n",
            "Epoch 62/100\n",
            "32/32 [==============================] - 0s 3ms/step - loss: 0.3473 - accuracy: 0.8677 - val_loss: 0.3121 - val_accuracy: 0.8858\n",
            "Epoch 63/100\n",
            "32/32 [==============================] - 0s 2ms/step - loss: 0.3469 - accuracy: 0.8637 - val_loss: 0.3102 - val_accuracy: 0.8858\n",
            "Epoch 64/100\n",
            "32/32 [==============================] - 0s 2ms/step - loss: 0.3436 - accuracy: 0.8578 - val_loss: 0.3087 - val_accuracy: 0.8813\n",
            "Epoch 65/100\n",
            "32/32 [==============================] - 0s 2ms/step - loss: 0.3030 - accuracy: 0.8888 - val_loss: 0.3057 - val_accuracy: 0.8858\n",
            "Epoch 66/100\n",
            "32/32 [==============================] - 0s 2ms/step - loss: 0.3213 - accuracy: 0.8673 - val_loss: 0.3040 - val_accuracy: 0.8858\n",
            "Epoch 67/100\n",
            "32/32 [==============================] - 0s 2ms/step - loss: 0.2822 - accuracy: 0.8913 - val_loss: 0.3013 - val_accuracy: 0.8858\n",
            "Epoch 68/100\n",
            "32/32 [==============================] - 0s 2ms/step - loss: 0.2995 - accuracy: 0.8849 - val_loss: 0.2995 - val_accuracy: 0.8858\n",
            "Epoch 69/100\n",
            "32/32 [==============================] - 0s 2ms/step - loss: 0.3181 - accuracy: 0.8679 - val_loss: 0.2998 - val_accuracy: 0.8813\n",
            "Epoch 70/100\n",
            "32/32 [==============================] - 0s 2ms/step - loss: 0.3043 - accuracy: 0.8715 - val_loss: 0.2992 - val_accuracy: 0.8813\n",
            "Epoch 71/100\n",
            "32/32 [==============================] - 0s 2ms/step - loss: 0.2923 - accuracy: 0.8876 - val_loss: 0.2966 - val_accuracy: 0.8904\n",
            "Epoch 72/100\n",
            "32/32 [==============================] - 0s 2ms/step - loss: 0.3086 - accuracy: 0.8771 - val_loss: 0.2946 - val_accuracy: 0.8904\n",
            "Epoch 73/100\n",
            "32/32 [==============================] - 0s 2ms/step - loss: 0.2814 - accuracy: 0.8909 - val_loss: 0.2908 - val_accuracy: 0.8904\n",
            "Epoch 74/100\n",
            "32/32 [==============================] - 0s 2ms/step - loss: 0.3134 - accuracy: 0.8681 - val_loss: 0.2901 - val_accuracy: 0.8858\n",
            "Epoch 75/100\n",
            "32/32 [==============================] - 0s 2ms/step - loss: 0.3386 - accuracy: 0.8682 - val_loss: 0.2888 - val_accuracy: 0.8858\n",
            "Epoch 76/100\n",
            "32/32 [==============================] - 0s 3ms/step - loss: 0.3105 - accuracy: 0.8713 - val_loss: 0.2881 - val_accuracy: 0.8858\n",
            "Epoch 77/100\n",
            "32/32 [==============================] - 0s 2ms/step - loss: 0.3214 - accuracy: 0.8722 - val_loss: 0.2860 - val_accuracy: 0.8858\n",
            "Epoch 78/100\n",
            "32/32 [==============================] - 0s 2ms/step - loss: 0.2915 - accuracy: 0.8840 - val_loss: 0.2857 - val_accuracy: 0.8858\n",
            "Epoch 79/100\n",
            "32/32 [==============================] - 0s 2ms/step - loss: 0.3068 - accuracy: 0.8910 - val_loss: 0.2848 - val_accuracy: 0.8858\n",
            "Epoch 80/100\n",
            "32/32 [==============================] - 0s 2ms/step - loss: 0.3049 - accuracy: 0.8844 - val_loss: 0.2819 - val_accuracy: 0.8904\n",
            "Epoch 81/100\n",
            "32/32 [==============================] - 0s 2ms/step - loss: 0.2902 - accuracy: 0.8962 - val_loss: 0.2872 - val_accuracy: 0.8813\n",
            "Epoch 82/100\n",
            "32/32 [==============================] - 0s 3ms/step - loss: 0.2977 - accuracy: 0.8871 - val_loss: 0.2814 - val_accuracy: 0.8858\n",
            "Epoch 83/100\n",
            "32/32 [==============================] - 0s 2ms/step - loss: 0.2935 - accuracy: 0.8925 - val_loss: 0.2808 - val_accuracy: 0.8858\n",
            "Epoch 84/100\n",
            "32/32 [==============================] - 0s 2ms/step - loss: 0.3044 - accuracy: 0.8676 - val_loss: 0.2791 - val_accuracy: 0.8858\n",
            "Epoch 85/100\n",
            "32/32 [==============================] - 0s 2ms/step - loss: 0.2807 - accuracy: 0.8934 - val_loss: 0.2785 - val_accuracy: 0.8858\n",
            "Epoch 86/100\n",
            "32/32 [==============================] - 0s 2ms/step - loss: 0.3246 - accuracy: 0.8749 - val_loss: 0.2784 - val_accuracy: 0.8858\n",
            "Epoch 87/100\n",
            "32/32 [==============================] - 0s 2ms/step - loss: 0.2723 - accuracy: 0.9036 - val_loss: 0.2808 - val_accuracy: 0.8858\n",
            "Epoch 88/100\n",
            "32/32 [==============================] - 0s 2ms/step - loss: 0.3009 - accuracy: 0.8749 - val_loss: 0.2762 - val_accuracy: 0.8858\n",
            "Epoch 89/100\n",
            "32/32 [==============================] - 0s 2ms/step - loss: 0.2943 - accuracy: 0.8716 - val_loss: 0.2744 - val_accuracy: 0.8858\n",
            "Epoch 90/100\n",
            "32/32 [==============================] - 0s 2ms/step - loss: 0.3055 - accuracy: 0.8771 - val_loss: 0.2746 - val_accuracy: 0.8858\n",
            "Epoch 91/100\n",
            "32/32 [==============================] - 0s 3ms/step - loss: 0.2833 - accuracy: 0.8836 - val_loss: 0.2736 - val_accuracy: 0.8858\n",
            "Epoch 92/100\n",
            "32/32 [==============================] - 0s 3ms/step - loss: 0.2840 - accuracy: 0.8852 - val_loss: 0.2733 - val_accuracy: 0.8858\n",
            "Epoch 93/100\n",
            "32/32 [==============================] - 0s 2ms/step - loss: 0.2809 - accuracy: 0.8849 - val_loss: 0.2755 - val_accuracy: 0.8904\n",
            "Epoch 94/100\n",
            "32/32 [==============================] - 0s 2ms/step - loss: 0.3150 - accuracy: 0.8871 - val_loss: 0.2739 - val_accuracy: 0.8904\n",
            "Epoch 95/100\n",
            "32/32 [==============================] - 0s 3ms/step - loss: 0.2698 - accuracy: 0.8930 - val_loss: 0.2704 - val_accuracy: 0.8858\n",
            "Epoch 96/100\n",
            "32/32 [==============================] - 0s 2ms/step - loss: 0.2714 - accuracy: 0.8974 - val_loss: 0.2729 - val_accuracy: 0.8904\n",
            "Epoch 97/100\n",
            "32/32 [==============================] - 0s 2ms/step - loss: 0.3285 - accuracy: 0.8649 - val_loss: 0.2727 - val_accuracy: 0.8904\n",
            "Epoch 98/100\n",
            "32/32 [==============================] - 0s 3ms/step - loss: 0.2894 - accuracy: 0.8814 - val_loss: 0.2737 - val_accuracy: 0.8904\n",
            "Epoch 99/100\n",
            "32/32 [==============================] - 0s 2ms/step - loss: 0.2798 - accuracy: 0.8862 - val_loss: 0.2714 - val_accuracy: 0.8904\n",
            "Epoch 100/100\n",
            "32/32 [==============================] - 0s 2ms/step - loss: 0.2890 - accuracy: 0.8682 - val_loss: 0.2675 - val_accuracy: 0.8904\n"
          ],
          "name": "stdout"
        }
      ]
    },
    {
      "cell_type": "code",
      "metadata": {
        "colab": {
          "base_uri": "https://localhost:8080/"
        },
        "id": "idZOYpW3eSH4",
        "outputId": "fea42f45-2c48-4370-8c39-0ed3fd88775f"
      },
      "source": [
        "hist.history.keys()"
      ],
      "execution_count": 37,
      "outputs": [
        {
          "output_type": "execute_result",
          "data": {
            "text/plain": [
              "dict_keys(['loss', 'accuracy', 'val_loss', 'val_accuracy'])"
            ]
          },
          "metadata": {
            "tags": []
          },
          "execution_count": 37
        }
      ]
    },
    {
      "cell_type": "code",
      "metadata": {
        "colab": {
          "base_uri": "https://localhost:8080/"
        },
        "id": "DYo3qgtTci6i",
        "outputId": "ffd880b4-42d1-42a3-c56e-779bd827bfd4"
      },
      "source": [
        "model.evaluate(X_test, Y_test)[1]"
      ],
      "execution_count": 24,
      "outputs": [
        {
          "output_type": "stream",
          "text": [
            "7/7 [==============================] - 0s 2ms/step - loss: 0.3131 - accuracy: 0.8721\n"
          ],
          "name": "stdout"
        },
        {
          "output_type": "execute_result",
          "data": {
            "text/plain": [
              "0.8721461296081543"
            ]
          },
          "metadata": {
            "tags": []
          },
          "execution_count": 24
        }
      ]
    },
    {
      "cell_type": "code",
      "metadata": {
        "id": "amCLD152c5Aw"
      },
      "source": [
        "import matplotlib.pyplot as plt"
      ],
      "execution_count": 25,
      "outputs": []
    },
    {
      "cell_type": "code",
      "metadata": {
        "colab": {
          "base_uri": "https://localhost:8080/",
          "height": 295
        },
        "id": "Z9ox7mXcc9cu",
        "outputId": "cc5ff52e-5334-4994-e923-6af8c952999c"
      },
      "source": [
        "plt.plot(hist.history['loss'])\n",
        "plt.plot(hist.history['val_loss'])\n",
        "plt.title('Model loss')\n",
        "plt.ylabel('Loss')\n",
        "plt.xlabel('Epoch')\n",
        "plt.legend(['Train', 'Val'], loc='upper right')\n",
        "plt.show()"
      ],
      "execution_count": 26,
      "outputs": [
        {
          "output_type": "display_data",
          "data": {
            "image/png": "[encoded data removed]",
            "text/plain": [
              "<Figure size 432x288 with 1 Axes>"
            ]
          },
          "metadata": {
            "tags": [],
            "needs_background": "light"
          }
        }
      ]
    },
    {
      "cell_type": "code",
      "metadata": {
        "colab": {
          "base_uri": "https://localhost:8080/",
          "height": 295
        },
        "id": "8kA1ptRtdKck",
        "outputId": "3388f102-8448-4f37-9f7f-ecd42273f42d"
      },
      "source": [
        "plt.plot(hist.history['accuracy'])\n",
        "plt.plot(hist.history['val_accuracy'])\n",
        "plt.title('Model accuracy')\n",
        "plt.ylabel('Accuracy')\n",
        "plt.xlabel('Epoch')\n",
        "plt.legend(['Train', 'Val'], loc='lower right')\n",
        "plt.show()"
      ],
      "execution_count": 38,
      "outputs": [
        {
          "output_type": "display_data",
          "data": {
            "image/png": "[encoded data removed]",
            "text/plain": [
              "<Figure size 432x288 with 1 Axes>"
            ]
          },
          "metadata": {
            "tags": [],
            "needs_background": "light"
          }
        }
      ]
    },
    {
      "cell_type": "code",
      "metadata": {
        "id": "owHQFtere9nD"
      },
      "source": [
        "model_2 = Sequential([\n",
        "    Dense(1000, activation='relu', input_shape=(10,)),\n",
        "    Dense(1000, activation='relu'),\n",
        "    Dense(1000, activation='relu'),\n",
        "    Dense(1000, activation='relu'),\n",
        "    Dense(1, activation='sigmoid'),\n",
        "])"
      ],
      "execution_count": 39,
      "outputs": []
    },
    {
      "cell_type": "code",
      "metadata": {
        "id": "YHU5HfPkfB-m"
      },
      "source": [
        "model_2.compile(optimizer='adam',\n",
        "              loss='binary_crossentropy',\n",
        "              metrics=['accuracy'])"
      ],
      "execution_count": 40,
      "outputs": []
    },
    {
      "cell_type": "code",
      "metadata": {
        "colab": {
          "base_uri": "https://localhost:8080/"
        },
        "id": "omDRb3GbfEDI",
        "outputId": "b0d6debd-be96-466d-84c4-f08716c897b5"
      },
      "source": [
        "hist_2 = model_2.fit(X_train, Y_train,\n",
        "          batch_size=32, epochs=100,\n",
        "          validation_data=(X_val, Y_val))"
      ],
      "execution_count": 41,
      "outputs": [
        {
          "output_type": "stream",
          "text": [
            "Epoch 1/100\n",
            "32/32 [==============================] - 2s 46ms/step - loss: 0.5629 - accuracy: 0.6751 - val_loss: 0.3402 - val_accuracy: 0.8493\n",
            "Epoch 2/100\n",
            "32/32 [==============================] - 1s 36ms/step - loss: 0.3667 - accuracy: 0.8614 - val_loss: 0.3116 - val_accuracy: 0.8584\n",
            "Epoch 3/100\n",
            "32/32 [==============================] - 1s 35ms/step - loss: 0.3120 - accuracy: 0.8683 - val_loss: 0.2907 - val_accuracy: 0.8630\n",
            "Epoch 4/100\n",
            "32/32 [==============================] - 1s 36ms/step - loss: 0.2828 - accuracy: 0.8802 - val_loss: 0.2477 - val_accuracy: 0.8813\n",
            "Epoch 5/100\n",
            "32/32 [==============================] - 1s 36ms/step - loss: 0.2628 - accuracy: 0.8945 - val_loss: 0.2671 - val_accuracy: 0.8721\n",
            "Epoch 6/100\n",
            "32/32 [==============================] - 1s 36ms/step - loss: 0.2508 - accuracy: 0.9096 - val_loss: 0.3623 - val_accuracy: 0.8630\n",
            "Epoch 7/100\n",
            "32/32 [==============================] - 1s 37ms/step - loss: 0.2460 - accuracy: 0.8958 - val_loss: 0.2748 - val_accuracy: 0.8995\n",
            "Epoch 8/100\n",
            "32/32 [==============================] - 1s 36ms/step - loss: 0.2137 - accuracy: 0.9084 - val_loss: 0.2485 - val_accuracy: 0.8950\n",
            "Epoch 9/100\n",
            "32/32 [==============================] - 1s 37ms/step - loss: 0.2472 - accuracy: 0.9066 - val_loss: 0.2304 - val_accuracy: 0.9041\n",
            "Epoch 10/100\n",
            "32/32 [==============================] - 1s 36ms/step - loss: 0.2743 - accuracy: 0.8801 - val_loss: 0.2632 - val_accuracy: 0.8813\n",
            "Epoch 11/100\n",
            "32/32 [==============================] - 1s 34ms/step - loss: 0.2317 - accuracy: 0.8960 - val_loss: 0.2195 - val_accuracy: 0.9041\n",
            "Epoch 12/100\n",
            "32/32 [==============================] - 1s 36ms/step - loss: 0.2387 - accuracy: 0.9024 - val_loss: 0.2426 - val_accuracy: 0.8995\n",
            "Epoch 13/100\n",
            "32/32 [==============================] - 1s 36ms/step - loss: 0.2084 - accuracy: 0.9029 - val_loss: 0.2323 - val_accuracy: 0.8950\n",
            "Epoch 14/100\n",
            "32/32 [==============================] - 1s 36ms/step - loss: 0.2179 - accuracy: 0.9143 - val_loss: 0.2411 - val_accuracy: 0.9041\n",
            "Epoch 15/100\n",
            "32/32 [==============================] - 1s 35ms/step - loss: 0.2057 - accuracy: 0.9136 - val_loss: 0.2265 - val_accuracy: 0.8950\n",
            "Epoch 16/100\n",
            "32/32 [==============================] - 1s 35ms/step - loss: 0.2575 - accuracy: 0.8931 - val_loss: 0.2593 - val_accuracy: 0.8950\n",
            "Epoch 17/100\n",
            "32/32 [==============================] - 1s 36ms/step - loss: 0.2311 - accuracy: 0.8993 - val_loss: 0.2375 - val_accuracy: 0.8858\n",
            "Epoch 18/100\n",
            "32/32 [==============================] - 1s 36ms/step - loss: 0.2029 - accuracy: 0.9208 - val_loss: 0.2196 - val_accuracy: 0.9041\n",
            "Epoch 19/100\n",
            "32/32 [==============================] - 1s 35ms/step - loss: 0.2196 - accuracy: 0.9055 - val_loss: 0.2377 - val_accuracy: 0.9041\n",
            "Epoch 20/100\n",
            "32/32 [==============================] - 1s 35ms/step - loss: 0.2408 - accuracy: 0.9026 - val_loss: 0.2674 - val_accuracy: 0.8904\n",
            "Epoch 21/100\n",
            "32/32 [==============================] - 1s 37ms/step - loss: 0.2065 - accuracy: 0.9065 - val_loss: 0.2484 - val_accuracy: 0.9041\n",
            "Epoch 22/100\n",
            "32/32 [==============================] - 1s 37ms/step - loss: 0.1898 - accuracy: 0.9204 - val_loss: 0.2359 - val_accuracy: 0.8950\n",
            "Epoch 23/100\n",
            "32/32 [==============================] - 1s 36ms/step - loss: 0.1847 - accuracy: 0.9185 - val_loss: 0.2497 - val_accuracy: 0.9041\n",
            "Epoch 24/100\n",
            "32/32 [==============================] - 1s 36ms/step - loss: 0.1666 - accuracy: 0.9200 - val_loss: 0.2341 - val_accuracy: 0.8950\n",
            "Epoch 25/100\n",
            "32/32 [==============================] - 1s 36ms/step - loss: 0.1889 - accuracy: 0.9053 - val_loss: 0.2624 - val_accuracy: 0.8995\n",
            "Epoch 26/100\n",
            "32/32 [==============================] - 1s 37ms/step - loss: 0.2080 - accuracy: 0.9213 - val_loss: 0.2610 - val_accuracy: 0.8904\n",
            "Epoch 27/100\n",
            "32/32 [==============================] - 1s 36ms/step - loss: 0.1811 - accuracy: 0.9216 - val_loss: 0.2406 - val_accuracy: 0.8950\n",
            "Epoch 28/100\n",
            "32/32 [==============================] - 1s 36ms/step - loss: 0.1754 - accuracy: 0.9364 - val_loss: 0.2462 - val_accuracy: 0.8767\n",
            "Epoch 29/100\n",
            "32/32 [==============================] - 1s 36ms/step - loss: 0.1971 - accuracy: 0.9156 - val_loss: 0.2495 - val_accuracy: 0.8995\n",
            "Epoch 30/100\n",
            "32/32 [==============================] - 1s 36ms/step - loss: 0.1706 - accuracy: 0.9159 - val_loss: 0.2613 - val_accuracy: 0.8950\n",
            "Epoch 31/100\n",
            "32/32 [==============================] - 1s 35ms/step - loss: 0.1581 - accuracy: 0.9415 - val_loss: 0.2470 - val_accuracy: 0.8995\n",
            "Epoch 32/100\n",
            "32/32 [==============================] - 1s 36ms/step - loss: 0.1680 - accuracy: 0.9142 - val_loss: 0.3074 - val_accuracy: 0.8904\n",
            "Epoch 33/100\n",
            "32/32 [==============================] - 1s 36ms/step - loss: 0.1766 - accuracy: 0.9171 - val_loss: 0.2603 - val_accuracy: 0.8721\n",
            "Epoch 34/100\n",
            "32/32 [==============================] - 1s 35ms/step - loss: 0.1464 - accuracy: 0.9384 - val_loss: 0.3166 - val_accuracy: 0.8630\n",
            "Epoch 35/100\n",
            "32/32 [==============================] - 1s 35ms/step - loss: 0.2038 - accuracy: 0.8971 - val_loss: 0.2481 - val_accuracy: 0.9087\n",
            "Epoch 36/100\n",
            "32/32 [==============================] - 1s 35ms/step - loss: 0.1830 - accuracy: 0.9195 - val_loss: 0.2900 - val_accuracy: 0.9087\n",
            "Epoch 37/100\n",
            "32/32 [==============================] - 1s 35ms/step - loss: 0.1754 - accuracy: 0.9308 - val_loss: 0.3460 - val_accuracy: 0.8676\n",
            "Epoch 38/100\n",
            "32/32 [==============================] - 1s 35ms/step - loss: 0.1910 - accuracy: 0.9167 - val_loss: 0.2676 - val_accuracy: 0.8813\n",
            "Epoch 39/100\n",
            "32/32 [==============================] - 1s 35ms/step - loss: 0.1685 - accuracy: 0.9258 - val_loss: 0.3055 - val_accuracy: 0.8858\n",
            "Epoch 40/100\n",
            "32/32 [==============================] - 1s 35ms/step - loss: 0.1498 - accuracy: 0.9372 - val_loss: 0.2550 - val_accuracy: 0.8995\n",
            "Epoch 41/100\n",
            "32/32 [==============================] - 1s 35ms/step - loss: 0.1779 - accuracy: 0.9340 - val_loss: 0.3262 - val_accuracy: 0.8858\n",
            "Epoch 42/100\n",
            "32/32 [==============================] - 1s 34ms/step - loss: 0.1920 - accuracy: 0.9173 - val_loss: 0.3149 - val_accuracy: 0.8995\n",
            "Epoch 43/100\n",
            "32/32 [==============================] - 1s 34ms/step - loss: 0.1913 - accuracy: 0.9208 - val_loss: 0.2844 - val_accuracy: 0.9041\n",
            "Epoch 44/100\n",
            "32/32 [==============================] - 1s 34ms/step - loss: 0.1815 - accuracy: 0.9125 - val_loss: 0.3561 - val_accuracy: 0.8676\n",
            "Epoch 45/100\n",
            "32/32 [==============================] - 1s 35ms/step - loss: 0.1766 - accuracy: 0.9219 - val_loss: 0.3646 - val_accuracy: 0.8539\n",
            "Epoch 46/100\n",
            "32/32 [==============================] - 1s 34ms/step - loss: 0.1858 - accuracy: 0.9242 - val_loss: 0.3254 - val_accuracy: 0.8767\n",
            "Epoch 47/100\n",
            "32/32 [==============================] - 1s 36ms/step - loss: 0.1463 - accuracy: 0.9396 - val_loss: 0.3143 - val_accuracy: 0.8904\n",
            "Epoch 48/100\n",
            "32/32 [==============================] - 1s 36ms/step - loss: 0.1437 - accuracy: 0.9331 - val_loss: 0.2934 - val_accuracy: 0.8995\n",
            "Epoch 49/100\n",
            "32/32 [==============================] - 1s 36ms/step - loss: 0.1517 - accuracy: 0.9361 - val_loss: 0.2554 - val_accuracy: 0.8950\n",
            "Epoch 50/100\n",
            "32/32 [==============================] - 1s 36ms/step - loss: 0.1476 - accuracy: 0.9391 - val_loss: 0.2359 - val_accuracy: 0.9087\n",
            "Epoch 51/100\n",
            "32/32 [==============================] - 1s 37ms/step - loss: 0.1540 - accuracy: 0.9282 - val_loss: 0.2948 - val_accuracy: 0.8995\n",
            "Epoch 52/100\n",
            "32/32 [==============================] - 1s 37ms/step - loss: 0.1759 - accuracy: 0.9228 - val_loss: 0.2899 - val_accuracy: 0.9087\n",
            "Epoch 53/100\n",
            "32/32 [==============================] - 1s 36ms/step - loss: 0.1267 - accuracy: 0.9476 - val_loss: 0.3237 - val_accuracy: 0.8813\n",
            "Epoch 54/100\n",
            "32/32 [==============================] - 1s 37ms/step - loss: 0.1424 - accuracy: 0.9422 - val_loss: 0.3385 - val_accuracy: 0.8858\n",
            "Epoch 55/100\n",
            "32/32 [==============================] - 1s 35ms/step - loss: 0.1559 - accuracy: 0.9297 - val_loss: 0.3420 - val_accuracy: 0.8858\n",
            "Epoch 56/100\n",
            "32/32 [==============================] - 1s 35ms/step - loss: 0.1800 - accuracy: 0.9235 - val_loss: 0.3474 - val_accuracy: 0.9087\n",
            "Epoch 57/100\n",
            "32/32 [==============================] - 1s 35ms/step - loss: 0.1410 - accuracy: 0.9416 - val_loss: 0.3285 - val_accuracy: 0.8858\n",
            "Epoch 58/100\n",
            "32/32 [==============================] - 1s 35ms/step - loss: 0.1299 - accuracy: 0.9500 - val_loss: 0.3271 - val_accuracy: 0.8904\n",
            "Epoch 59/100\n",
            "32/32 [==============================] - 1s 36ms/step - loss: 0.1351 - accuracy: 0.9468 - val_loss: 0.3057 - val_accuracy: 0.8858\n",
            "Epoch 60/100\n",
            "32/32 [==============================] - 1s 36ms/step - loss: 0.1410 - accuracy: 0.9498 - val_loss: 0.3101 - val_accuracy: 0.8995\n",
            "Epoch 61/100\n",
            "32/32 [==============================] - 1s 35ms/step - loss: 0.1110 - accuracy: 0.9538 - val_loss: 0.3937 - val_accuracy: 0.8767\n",
            "Epoch 62/100\n",
            "32/32 [==============================] - 1s 35ms/step - loss: 0.1188 - accuracy: 0.9506 - val_loss: 0.3871 - val_accuracy: 0.8858\n",
            "Epoch 63/100\n",
            "32/32 [==============================] - 1s 35ms/step - loss: 0.1254 - accuracy: 0.9472 - val_loss: 0.2838 - val_accuracy: 0.8721\n",
            "Epoch 64/100\n",
            "32/32 [==============================] - 1s 36ms/step - loss: 0.1244 - accuracy: 0.9422 - val_loss: 0.3410 - val_accuracy: 0.8858\n",
            "Epoch 65/100\n",
            "32/32 [==============================] - 1s 36ms/step - loss: 0.1132 - accuracy: 0.9490 - val_loss: 0.3880 - val_accuracy: 0.8676\n",
            "Epoch 66/100\n",
            "32/32 [==============================] - 1s 35ms/step - loss: 0.1664 - accuracy: 0.9352 - val_loss: 0.3601 - val_accuracy: 0.8858\n",
            "Epoch 67/100\n",
            "32/32 [==============================] - 1s 36ms/step - loss: 0.1486 - accuracy: 0.9387 - val_loss: 0.3528 - val_accuracy: 0.8858\n",
            "Epoch 68/100\n",
            "32/32 [==============================] - 1s 35ms/step - loss: 0.1753 - accuracy: 0.9276 - val_loss: 0.2638 - val_accuracy: 0.8950\n",
            "Epoch 69/100\n",
            "32/32 [==============================] - 1s 36ms/step - loss: 0.1454 - accuracy: 0.9388 - val_loss: 0.3398 - val_accuracy: 0.8950\n",
            "Epoch 70/100\n",
            "32/32 [==============================] - 1s 35ms/step - loss: 0.1107 - accuracy: 0.9602 - val_loss: 0.2682 - val_accuracy: 0.8904\n",
            "Epoch 71/100\n",
            "32/32 [==============================] - 1s 35ms/step - loss: 0.1596 - accuracy: 0.9372 - val_loss: 0.3591 - val_accuracy: 0.8950\n",
            "Epoch 72/100\n",
            "32/32 [==============================] - 1s 36ms/step - loss: 0.1659 - accuracy: 0.9122 - val_loss: 0.2499 - val_accuracy: 0.8767\n",
            "Epoch 73/100\n",
            "32/32 [==============================] - 1s 37ms/step - loss: 0.1195 - accuracy: 0.9438 - val_loss: 0.2936 - val_accuracy: 0.8950\n",
            "Epoch 74/100\n",
            "32/32 [==============================] - 1s 35ms/step - loss: 0.1772 - accuracy: 0.9210 - val_loss: 0.3865 - val_accuracy: 0.8904\n",
            "Epoch 75/100\n",
            "32/32 [==============================] - 1s 36ms/step - loss: 0.1131 - accuracy: 0.9536 - val_loss: 0.3538 - val_accuracy: 0.8539\n",
            "Epoch 76/100\n",
            "32/32 [==============================] - 1s 36ms/step - loss: 0.1583 - accuracy: 0.9302 - val_loss: 0.4676 - val_accuracy: 0.8904\n",
            "Epoch 77/100\n",
            "32/32 [==============================] - 1s 36ms/step - loss: 0.1099 - accuracy: 0.9479 - val_loss: 0.4201 - val_accuracy: 0.8995\n",
            "Epoch 78/100\n",
            "32/32 [==============================] - 1s 34ms/step - loss: 0.1250 - accuracy: 0.9421 - val_loss: 0.3343 - val_accuracy: 0.8813\n",
            "Epoch 79/100\n",
            "32/32 [==============================] - 1s 36ms/step - loss: 0.1373 - accuracy: 0.9365 - val_loss: 0.4794 - val_accuracy: 0.9087\n",
            "Epoch 80/100\n",
            "32/32 [==============================] - 1s 37ms/step - loss: 0.1255 - accuracy: 0.9414 - val_loss: 0.3580 - val_accuracy: 0.8721\n",
            "Epoch 81/100\n",
            "32/32 [==============================] - 1s 36ms/step - loss: 0.1142 - accuracy: 0.9403 - val_loss: 0.3397 - val_accuracy: 0.8858\n",
            "Epoch 82/100\n",
            "32/32 [==============================] - 1s 36ms/step - loss: 0.1569 - accuracy: 0.9174 - val_loss: 0.3925 - val_accuracy: 0.8767\n",
            "Epoch 83/100\n",
            "32/32 [==============================] - 1s 36ms/step - loss: 0.1042 - accuracy: 0.9552 - val_loss: 0.3753 - val_accuracy: 0.8721\n",
            "Epoch 84/100\n",
            "32/32 [==============================] - 1s 35ms/step - loss: 0.1161 - accuracy: 0.9602 - val_loss: 0.3742 - val_accuracy: 0.8813\n",
            "Epoch 85/100\n",
            "32/32 [==============================] - 1s 35ms/step - loss: 0.1068 - accuracy: 0.9556 - val_loss: 0.3521 - val_accuracy: 0.8904\n",
            "Epoch 86/100\n",
            "32/32 [==============================] - 1s 35ms/step - loss: 0.0868 - accuracy: 0.9627 - val_loss: 0.3701 - val_accuracy: 0.8813\n",
            "Epoch 87/100\n",
            "32/32 [==============================] - 1s 35ms/step - loss: 0.1128 - accuracy: 0.9513 - val_loss: 0.5498 - val_accuracy: 0.9041\n",
            "Epoch 88/100\n",
            "32/32 [==============================] - 1s 36ms/step - loss: 0.1160 - accuracy: 0.9527 - val_loss: 0.4277 - val_accuracy: 0.8721\n",
            "Epoch 89/100\n",
            "32/32 [==============================] - 1s 36ms/step - loss: 0.0978 - accuracy: 0.9692 - val_loss: 0.4173 - val_accuracy: 0.8995\n",
            "Epoch 90/100\n",
            "32/32 [==============================] - 1s 36ms/step - loss: 0.1097 - accuracy: 0.9565 - val_loss: 0.4949 - val_accuracy: 0.8767\n",
            "Epoch 91/100\n",
            "32/32 [==============================] - 1s 37ms/step - loss: 0.1165 - accuracy: 0.9573 - val_loss: 0.4145 - val_accuracy: 0.8630\n",
            "Epoch 92/100\n",
            "32/32 [==============================] - 1s 37ms/step - loss: 0.1060 - accuracy: 0.9574 - val_loss: 0.4431 - val_accuracy: 0.8721\n",
            "Epoch 93/100\n",
            "32/32 [==============================] - 1s 36ms/step - loss: 0.1163 - accuracy: 0.9520 - val_loss: 0.4274 - val_accuracy: 0.9178\n",
            "Epoch 94/100\n",
            "32/32 [==============================] - 1s 36ms/step - loss: 0.1162 - accuracy: 0.9496 - val_loss: 0.3730 - val_accuracy: 0.9087\n",
            "Epoch 95/100\n",
            "32/32 [==============================] - 1s 36ms/step - loss: 0.1425 - accuracy: 0.9449 - val_loss: 0.4570 - val_accuracy: 0.8950\n",
            "Epoch 96/100\n",
            "32/32 [==============================] - 1s 36ms/step - loss: 0.1266 - accuracy: 0.9465 - val_loss: 0.3997 - val_accuracy: 0.8676\n",
            "Epoch 97/100\n",
            "32/32 [==============================] - 1s 34ms/step - loss: 0.1167 - accuracy: 0.9558 - val_loss: 0.3814 - val_accuracy: 0.8858\n",
            "Epoch 98/100\n",
            "32/32 [==============================] - 1s 36ms/step - loss: 0.1077 - accuracy: 0.9570 - val_loss: 0.3793 - val_accuracy: 0.8858\n",
            "Epoch 99/100\n",
            "32/32 [==============================] - 1s 36ms/step - loss: 0.1217 - accuracy: 0.9561 - val_loss: 0.4488 - val_accuracy: 0.8858\n",
            "Epoch 100/100\n",
            "32/32 [==============================] - 1s 35ms/step - loss: 0.0819 - accuracy: 0.9645 - val_loss: 0.4133 - val_accuracy: 0.8813\n"
          ],
          "name": "stdout"
        }
      ]
    },
    {
      "cell_type": "code",
      "metadata": {
        "colab": {
          "base_uri": "https://localhost:8080/",
          "height": 295
        },
        "id": "L-PqkF4WfSl2",
        "outputId": "3bcd04e7-ea74-4b02-e0c7-c128d7fc75ee"
      },
      "source": [
        "plt.plot(hist_2.history['loss'])\n",
        "plt.plot(hist_2.history['val_loss'])\n",
        "plt.title('Model loss')\n",
        "plt.ylabel('Loss')\n",
        "plt.xlabel('Epoch')\n",
        "plt.legend(['Train', 'Val'], loc='upper right')\n",
        "plt.show()"
      ],
      "execution_count": 42,
      "outputs": [
        {
          "output_type": "display_data",
          "data": {
            "image/png": "[encoded data removed]",
            "text/plain": [
              "<Figure size 432x288 with 1 Axes>"
            ]
          },
          "metadata": {
            "tags": [],
            "needs_background": "light"
          }
        }
      ]
    },
    {
      "cell_type": "code",
      "metadata": {
        "colab": {
          "base_uri": "https://localhost:8080/",
          "height": 295
        },
        "id": "Mh2PackvfUQX",
        "outputId": "bba18378-9b2f-493b-96a0-20bd68c5e719"
      },
      "source": [
        "plt.plot(hist_2.history['accuracy'])\n",
        "plt.plot(hist_2.history['val_accuracy'])\n",
        "plt.title('Model accuracy')\n",
        "plt.ylabel('Accuracy')\n",
        "plt.xlabel('Epoch')\n",
        "plt.legend(['Train', 'Val'], loc='lower right')\n",
        "plt.show()"
      ],
      "execution_count": 44,
      "outputs": [
        {
          "output_type": "display_data",
          "data": {
            "image/png": "[encoded data removed]",
            "text/plain": [
              "<Figure size 432x288 with 1 Axes>"
            ]
          },
          "metadata": {
            "tags": [],
            "needs_background": "light"
          }
        }
      ]
    },
    {
      "cell_type": "code",
      "metadata": {
        "id": "eUnMiNyffYks"
      },
      "source": [
        "from keras.layers import Dropout\n",
        "from keras import regularizers"
      ],
      "execution_count": 45,
      "outputs": []
    },
    {
      "cell_type": "code",
      "metadata": {
        "id": "r4Zw1gdafbJh"
      },
      "source": [
        "model_3 = Sequential([\n",
        "    Dense(1000, activation='relu', kernel_regularizer=regularizers.l2(0.01), input_shape=(10,)),\n",
        "    Dropout(0.3),\n",
        "    Dense(1000, activation='relu', kernel_regularizer=regularizers.l2(0.01)),\n",
        "    Dropout(0.3),\n",
        "    Dense(1000, activation='relu', kernel_regularizer=regularizers.l2(0.01)),\n",
        "    Dropout(0.3),\n",
        "    Dense(1000, activation='relu', kernel_regularizer=regularizers.l2(0.01)),\n",
        "    Dropout(0.3),\n",
        "    Dense(1, activation='sigmoid', kernel_regularizer=regularizers.l2(0.01)),\n",
        "])\n"
      ],
      "execution_count": 46,
      "outputs": []
    },
    {
      "cell_type": "code",
      "metadata": {
        "id": "G4OQ_o7zfghb"
      },
      "source": [
        "model_3.compile(optimizer='adam',\n",
        "              loss='binary_crossentropy',\n",
        "              metrics=['accuracy'])"
      ],
      "execution_count": 47,
      "outputs": []
    },
    {
      "cell_type": "code",
      "metadata": {
        "colab": {
          "base_uri": "https://localhost:8080/"
        },
        "id": "kkEkuKHyfhG4",
        "outputId": "6c9c0086-0bcb-4b02-bc9c-1ce8e912d110"
      },
      "source": [
        "hist_3 = model_3.fit(X_train, Y_train,\n",
        "          batch_size=32, epochs=100,\n",
        "          validation_data=(X_val, Y_val))"
      ],
      "execution_count": 48,
      "outputs": [
        {
          "output_type": "stream",
          "text": [
            "Epoch 1/100\n",
            "32/32 [==============================] - 4s 60ms/step - loss: 21.1077 - accuracy: 0.5709 - val_loss: 3.9125 - val_accuracy: 0.7169\n",
            "Epoch 2/100\n",
            "32/32 [==============================] - 1s 47ms/step - loss: 2.4877 - accuracy: 0.8001 - val_loss: 0.6468 - val_accuracy: 0.8721\n",
            "Epoch 3/100\n",
            "32/32 [==============================] - 2s 49ms/step - loss: 0.6293 - accuracy: 0.8412 - val_loss: 0.5128 - val_accuracy: 0.8904\n",
            "Epoch 4/100\n",
            "32/32 [==============================] - 2s 47ms/step - loss: 0.5433 - accuracy: 0.8567 - val_loss: 0.4773 - val_accuracy: 0.8630\n",
            "Epoch 5/100\n",
            "32/32 [==============================] - 2s 47ms/step - loss: 0.5019 - accuracy: 0.8739 - val_loss: 0.5199 - val_accuracy: 0.8630\n",
            "Epoch 6/100\n",
            "32/32 [==============================] - 2s 48ms/step - loss: 0.5004 - accuracy: 0.8718 - val_loss: 0.4465 - val_accuracy: 0.8904\n",
            "Epoch 7/100\n",
            "32/32 [==============================] - 2s 48ms/step - loss: 0.4831 - accuracy: 0.8740 - val_loss: 0.4725 - val_accuracy: 0.8721\n",
            "Epoch 8/100\n",
            "32/32 [==============================] - 2s 48ms/step - loss: 0.4557 - accuracy: 0.8905 - val_loss: 0.4329 - val_accuracy: 0.8904\n",
            "Epoch 9/100\n",
            "32/32 [==============================] - 2s 49ms/step - loss: 0.4496 - accuracy: 0.8702 - val_loss: 0.4373 - val_accuracy: 0.8858\n",
            "Epoch 10/100\n",
            "32/32 [==============================] - 2s 47ms/step - loss: 0.4611 - accuracy: 0.8738 - val_loss: 0.4276 - val_accuracy: 0.8904\n",
            "Epoch 11/100\n",
            "32/32 [==============================] - 2s 47ms/step - loss: 0.4305 - accuracy: 0.8884 - val_loss: 0.4277 - val_accuracy: 0.8904\n",
            "Epoch 12/100\n",
            "32/32 [==============================] - 2s 47ms/step - loss: 0.4476 - accuracy: 0.8769 - val_loss: 0.4363 - val_accuracy: 0.8995\n",
            "Epoch 13/100\n",
            "32/32 [==============================] - 2s 49ms/step - loss: 0.4689 - accuracy: 0.8741 - val_loss: 0.4582 - val_accuracy: 0.8676\n",
            "Epoch 14/100\n",
            "32/32 [==============================] - 2s 47ms/step - loss: 0.4549 - accuracy: 0.8624 - val_loss: 0.4434 - val_accuracy: 0.8676\n",
            "Epoch 15/100\n",
            "32/32 [==============================] - 2s 48ms/step - loss: 0.4670 - accuracy: 0.8596 - val_loss: 0.4176 - val_accuracy: 0.9041\n",
            "Epoch 16/100\n",
            "32/32 [==============================] - 1s 47ms/step - loss: 0.4575 - accuracy: 0.8678 - val_loss: 0.4583 - val_accuracy: 0.8676\n",
            "Epoch 17/100\n",
            "32/32 [==============================] - 2s 49ms/step - loss: 0.4409 - accuracy: 0.8848 - val_loss: 0.4104 - val_accuracy: 0.8904\n",
            "Epoch 18/100\n",
            "32/32 [==============================] - 2s 49ms/step - loss: 0.4393 - accuracy: 0.8663 - val_loss: 0.4119 - val_accuracy: 0.8950\n",
            "Epoch 19/100\n",
            "32/32 [==============================] - 2s 48ms/step - loss: 0.4378 - accuracy: 0.8829 - val_loss: 0.4322 - val_accuracy: 0.8813\n",
            "Epoch 20/100\n",
            "32/32 [==============================] - 2s 48ms/step - loss: 0.4091 - accuracy: 0.9025 - val_loss: 0.4146 - val_accuracy: 0.8858\n",
            "Epoch 21/100\n",
            "32/32 [==============================] - 2s 49ms/step - loss: 0.4240 - accuracy: 0.8948 - val_loss: 0.4146 - val_accuracy: 0.8950\n",
            "Epoch 22/100\n",
            "32/32 [==============================] - 2s 47ms/step - loss: 0.4398 - accuracy: 0.8774 - val_loss: 0.4152 - val_accuracy: 0.8813\n",
            "Epoch 23/100\n",
            "32/32 [==============================] - 2s 48ms/step - loss: 0.4406 - accuracy: 0.8736 - val_loss: 0.4560 - val_accuracy: 0.8676\n",
            "Epoch 24/100\n",
            "32/32 [==============================] - 2s 47ms/step - loss: 0.4609 - accuracy: 0.8932 - val_loss: 0.4265 - val_accuracy: 0.9041\n",
            "Epoch 25/100\n",
            "32/32 [==============================] - 2s 50ms/step - loss: 0.4422 - accuracy: 0.8747 - val_loss: 0.4906 - val_accuracy: 0.8584\n",
            "Epoch 26/100\n",
            "32/32 [==============================] - 2s 48ms/step - loss: 0.4822 - accuracy: 0.8648 - val_loss: 0.4253 - val_accuracy: 0.8858\n",
            "Epoch 27/100\n",
            "32/32 [==============================] - 2s 49ms/step - loss: 0.4491 - accuracy: 0.8710 - val_loss: 0.4114 - val_accuracy: 0.9041\n",
            "Epoch 28/100\n",
            "32/32 [==============================] - 2s 48ms/step - loss: 0.4462 - accuracy: 0.8781 - val_loss: 0.4232 - val_accuracy: 0.8676\n",
            "Epoch 29/100\n",
            "32/32 [==============================] - 2s 48ms/step - loss: 0.3951 - accuracy: 0.9053 - val_loss: 0.4061 - val_accuracy: 0.8950\n",
            "Epoch 30/100\n",
            "32/32 [==============================] - 2s 48ms/step - loss: 0.3965 - accuracy: 0.8959 - val_loss: 0.4393 - val_accuracy: 0.8676\n",
            "Epoch 31/100\n",
            "32/32 [==============================] - 2s 50ms/step - loss: 0.4490 - accuracy: 0.8840 - val_loss: 0.4029 - val_accuracy: 0.8950\n",
            "Epoch 32/100\n",
            "32/32 [==============================] - 2s 48ms/step - loss: 0.4159 - accuracy: 0.8893 - val_loss: 0.4418 - val_accuracy: 0.8676\n",
            "Epoch 33/100\n",
            "32/32 [==============================] - 2s 47ms/step - loss: 0.4229 - accuracy: 0.8772 - val_loss: 0.4116 - val_accuracy: 0.8995\n",
            "Epoch 34/100\n",
            "32/32 [==============================] - 2s 50ms/step - loss: 0.4564 - accuracy: 0.8828 - val_loss: 0.4137 - val_accuracy: 0.8767\n",
            "Epoch 35/100\n",
            "32/32 [==============================] - 2s 49ms/step - loss: 0.4264 - accuracy: 0.8959 - val_loss: 0.4083 - val_accuracy: 0.8950\n",
            "Epoch 36/100\n",
            "32/32 [==============================] - 2s 48ms/step - loss: 0.4282 - accuracy: 0.8883 - val_loss: 0.4255 - val_accuracy: 0.8584\n",
            "Epoch 37/100\n",
            "32/32 [==============================] - 1s 47ms/step - loss: 0.4529 - accuracy: 0.8777 - val_loss: 0.4224 - val_accuracy: 0.8767\n",
            "Epoch 38/100\n",
            "32/32 [==============================] - 2s 49ms/step - loss: 0.4231 - accuracy: 0.8887 - val_loss: 0.4091 - val_accuracy: 0.8950\n",
            "Epoch 39/100\n",
            "32/32 [==============================] - 1s 47ms/step - loss: 0.4300 - accuracy: 0.8767 - val_loss: 0.4186 - val_accuracy: 0.8721\n",
            "Epoch 40/100\n",
            "32/32 [==============================] - 2s 49ms/step - loss: 0.4558 - accuracy: 0.8792 - val_loss: 0.4502 - val_accuracy: 0.8630\n",
            "Epoch 41/100\n",
            "32/32 [==============================] - 2s 49ms/step - loss: 0.4341 - accuracy: 0.8776 - val_loss: 0.4165 - val_accuracy: 0.9041\n",
            "Epoch 42/100\n",
            "32/32 [==============================] - 1s 46ms/step - loss: 0.4523 - accuracy: 0.8729 - val_loss: 0.4319 - val_accuracy: 0.8630\n",
            "Epoch 43/100\n",
            "32/32 [==============================] - 1s 46ms/step - loss: 0.4566 - accuracy: 0.8729 - val_loss: 0.4011 - val_accuracy: 0.8904\n",
            "Epoch 44/100\n",
            "32/32 [==============================] - 1s 45ms/step - loss: 0.4079 - accuracy: 0.8922 - val_loss: 0.4036 - val_accuracy: 0.8858\n",
            "Epoch 45/100\n",
            "32/32 [==============================] - 1s 47ms/step - loss: 0.4007 - accuracy: 0.9060 - val_loss: 0.4120 - val_accuracy: 0.8904\n",
            "Epoch 46/100\n",
            "32/32 [==============================] - 2s 47ms/step - loss: 0.4332 - accuracy: 0.8802 - val_loss: 0.4119 - val_accuracy: 0.8858\n",
            "Epoch 47/100\n",
            "32/32 [==============================] - 1s 46ms/step - loss: 0.4108 - accuracy: 0.8912 - val_loss: 0.4859 - val_accuracy: 0.8676\n",
            "Epoch 48/100\n",
            "32/32 [==============================] - 2s 49ms/step - loss: 0.4480 - accuracy: 0.8771 - val_loss: 0.4096 - val_accuracy: 0.8950\n",
            "Epoch 49/100\n",
            "32/32 [==============================] - 2s 47ms/step - loss: 0.4481 - accuracy: 0.8840 - val_loss: 0.4419 - val_accuracy: 0.8676\n",
            "Epoch 50/100\n",
            "32/32 [==============================] - 1s 47ms/step - loss: 0.3967 - accuracy: 0.9057 - val_loss: 0.4107 - val_accuracy: 0.9041\n",
            "Epoch 51/100\n",
            "32/32 [==============================] - 1s 46ms/step - loss: 0.4284 - accuracy: 0.8741 - val_loss: 0.4126 - val_accuracy: 0.8813\n",
            "Epoch 52/100\n",
            "32/32 [==============================] - 1s 46ms/step - loss: 0.4100 - accuracy: 0.8810 - val_loss: 0.4033 - val_accuracy: 0.8904\n",
            "Epoch 53/100\n",
            "32/32 [==============================] - 2s 49ms/step - loss: 0.4468 - accuracy: 0.8702 - val_loss: 0.4464 - val_accuracy: 0.8858\n",
            "Epoch 54/100\n",
            "32/32 [==============================] - 1s 46ms/step - loss: 0.4657 - accuracy: 0.8684 - val_loss: 0.4058 - val_accuracy: 0.9041\n",
            "Epoch 55/100\n",
            "32/32 [==============================] - 1s 46ms/step - loss: 0.4228 - accuracy: 0.8845 - val_loss: 0.4154 - val_accuracy: 0.8767\n",
            "Epoch 56/100\n",
            "32/32 [==============================] - 2s 49ms/step - loss: 0.4249 - accuracy: 0.8833 - val_loss: 0.4019 - val_accuracy: 0.8950\n",
            "Epoch 57/100\n",
            "32/32 [==============================] - 2s 49ms/step - loss: 0.4460 - accuracy: 0.8871 - val_loss: 0.4070 - val_accuracy: 0.8904\n",
            "Epoch 58/100\n",
            "32/32 [==============================] - 2s 47ms/step - loss: 0.4277 - accuracy: 0.8940 - val_loss: 0.4139 - val_accuracy: 0.8995\n",
            "Epoch 59/100\n",
            "32/32 [==============================] - 2s 48ms/step - loss: 0.4459 - accuracy: 0.8687 - val_loss: 0.4062 - val_accuracy: 0.9041\n",
            "Epoch 60/100\n",
            "32/32 [==============================] - 2s 49ms/step - loss: 0.4047 - accuracy: 0.8944 - val_loss: 0.4218 - val_accuracy: 0.8676\n",
            "Epoch 61/100\n",
            "32/32 [==============================] - 2s 50ms/step - loss: 0.4356 - accuracy: 0.8785 - val_loss: 0.4006 - val_accuracy: 0.8950\n",
            "Epoch 62/100\n",
            "32/32 [==============================] - 2s 49ms/step - loss: 0.4199 - accuracy: 0.8968 - val_loss: 0.4011 - val_accuracy: 0.8950\n",
            "Epoch 63/100\n",
            "32/32 [==============================] - 2s 47ms/step - loss: 0.4486 - accuracy: 0.8770 - val_loss: 0.4079 - val_accuracy: 0.8813\n",
            "Epoch 64/100\n",
            "32/32 [==============================] - 2s 49ms/step - loss: 0.4286 - accuracy: 0.8773 - val_loss: 0.3988 - val_accuracy: 0.8950\n",
            "Epoch 65/100\n",
            "32/32 [==============================] - 2s 49ms/step - loss: 0.4340 - accuracy: 0.8784 - val_loss: 0.4595 - val_accuracy: 0.8630\n",
            "Epoch 66/100\n",
            "32/32 [==============================] - 2s 49ms/step - loss: 0.4247 - accuracy: 0.8837 - val_loss: 0.4099 - val_accuracy: 0.8813\n",
            "Epoch 67/100\n",
            "32/32 [==============================] - 2s 50ms/step - loss: 0.4414 - accuracy: 0.8795 - val_loss: 0.4079 - val_accuracy: 0.8950\n",
            "Epoch 68/100\n",
            "32/32 [==============================] - 2s 49ms/step - loss: 0.4566 - accuracy: 0.8664 - val_loss: 0.4048 - val_accuracy: 0.8858\n",
            "Epoch 69/100\n",
            "32/32 [==============================] - 2s 47ms/step - loss: 0.4188 - accuracy: 0.8972 - val_loss: 0.4101 - val_accuracy: 0.8995\n",
            "Epoch 70/100\n",
            "32/32 [==============================] - 2s 48ms/step - loss: 0.4176 - accuracy: 0.8833 - val_loss: 0.4044 - val_accuracy: 0.8904\n",
            "Epoch 71/100\n",
            "32/32 [==============================] - 2s 49ms/step - loss: 0.4328 - accuracy: 0.8767 - val_loss: 0.4040 - val_accuracy: 0.8904\n",
            "Epoch 72/100\n",
            "32/32 [==============================] - 2s 50ms/step - loss: 0.4238 - accuracy: 0.8880 - val_loss: 0.4057 - val_accuracy: 0.8950\n",
            "Epoch 73/100\n",
            "32/32 [==============================] - 2s 50ms/step - loss: 0.4362 - accuracy: 0.8918 - val_loss: 0.4141 - val_accuracy: 0.8767\n",
            "Epoch 74/100\n",
            "32/32 [==============================] - 2s 48ms/step - loss: 0.3966 - accuracy: 0.8995 - val_loss: 0.4107 - val_accuracy: 0.8904\n",
            "Epoch 75/100\n",
            "32/32 [==============================] - 1s 47ms/step - loss: 0.4309 - accuracy: 0.8817 - val_loss: 0.4171 - val_accuracy: 0.8676\n",
            "Epoch 76/100\n",
            "32/32 [==============================] - 2s 48ms/step - loss: 0.4608 - accuracy: 0.8734 - val_loss: 0.4040 - val_accuracy: 0.8904\n",
            "Epoch 77/100\n",
            "32/32 [==============================] - 2s 49ms/step - loss: 0.4311 - accuracy: 0.8872 - val_loss: 0.4263 - val_accuracy: 0.8858\n",
            "Epoch 78/100\n",
            "32/32 [==============================] - 2s 48ms/step - loss: 0.4490 - accuracy: 0.8667 - val_loss: 0.4106 - val_accuracy: 0.8767\n",
            "Epoch 79/100\n",
            "32/32 [==============================] - 2s 49ms/step - loss: 0.4373 - accuracy: 0.8827 - val_loss: 0.4006 - val_accuracy: 0.8904\n",
            "Epoch 80/100\n",
            "32/32 [==============================] - 2s 47ms/step - loss: 0.4151 - accuracy: 0.8850 - val_loss: 0.4384 - val_accuracy: 0.8676\n",
            "Epoch 81/100\n",
            "32/32 [==============================] - 2s 49ms/step - loss: 0.4421 - accuracy: 0.8791 - val_loss: 0.4105 - val_accuracy: 0.8904\n",
            "Epoch 82/100\n",
            "32/32 [==============================] - 2s 47ms/step - loss: 0.4030 - accuracy: 0.8907 - val_loss: 0.4071 - val_accuracy: 0.8904\n",
            "Epoch 83/100\n",
            "32/32 [==============================] - 2s 47ms/step - loss: 0.4604 - accuracy: 0.8672 - val_loss: 0.4078 - val_accuracy: 0.8995\n",
            "Epoch 84/100\n",
            "32/32 [==============================] - 2s 48ms/step - loss: 0.4382 - accuracy: 0.8811 - val_loss: 0.4059 - val_accuracy: 0.8950\n",
            "Epoch 85/100\n",
            "32/32 [==============================] - 2s 49ms/step - loss: 0.4600 - accuracy: 0.8712 - val_loss: 0.4706 - val_accuracy: 0.8630\n",
            "Epoch 86/100\n",
            "32/32 [==============================] - 2s 49ms/step - loss: 0.4343 - accuracy: 0.8794 - val_loss: 0.4153 - val_accuracy: 0.8721\n",
            "Epoch 87/100\n",
            "32/32 [==============================] - 2s 50ms/step - loss: 0.4382 - accuracy: 0.8744 - val_loss: 0.4236 - val_accuracy: 0.8676\n",
            "Epoch 88/100\n",
            "32/32 [==============================] - 2s 49ms/step - loss: 0.4468 - accuracy: 0.8762 - val_loss: 0.5322 - val_accuracy: 0.8402\n",
            "Epoch 89/100\n",
            "32/32 [==============================] - 2s 51ms/step - loss: 0.4310 - accuracy: 0.8900 - val_loss: 0.4070 - val_accuracy: 0.8950\n",
            "Epoch 90/100\n",
            "32/32 [==============================] - 2s 51ms/step - loss: 0.4192 - accuracy: 0.8883 - val_loss: 0.4042 - val_accuracy: 0.8995\n",
            "Epoch 91/100\n",
            "32/32 [==============================] - 2s 51ms/step - loss: 0.4544 - accuracy: 0.8685 - val_loss: 0.4188 - val_accuracy: 0.8813\n",
            "Epoch 92/100\n",
            "32/32 [==============================] - 2s 49ms/step - loss: 0.4358 - accuracy: 0.8903 - val_loss: 0.4188 - val_accuracy: 0.8767\n",
            "Epoch 93/100\n",
            "32/32 [==============================] - 2s 49ms/step - loss: 0.4271 - accuracy: 0.8874 - val_loss: 0.4053 - val_accuracy: 0.8904\n",
            "Epoch 94/100\n",
            "32/32 [==============================] - 2s 50ms/step - loss: 0.4659 - accuracy: 0.8828 - val_loss: 0.4361 - val_accuracy: 0.8630\n",
            "Epoch 95/100\n",
            "32/32 [==============================] - 2s 50ms/step - loss: 0.4537 - accuracy: 0.8854 - val_loss: 0.4019 - val_accuracy: 0.8950\n",
            "Epoch 96/100\n",
            "32/32 [==============================] - 2s 51ms/step - loss: 0.4447 - accuracy: 0.8731 - val_loss: 0.4005 - val_accuracy: 0.8995\n",
            "Epoch 97/100\n",
            "32/32 [==============================] - 2s 50ms/step - loss: 0.4160 - accuracy: 0.8943 - val_loss: 0.3994 - val_accuracy: 0.8904\n",
            "Epoch 98/100\n",
            "32/32 [==============================] - 2s 48ms/step - loss: 0.4345 - accuracy: 0.8834 - val_loss: 0.4088 - val_accuracy: 0.8767\n",
            "Epoch 99/100\n",
            "32/32 [==============================] - 2s 49ms/step - loss: 0.4246 - accuracy: 0.8991 - val_loss: 0.4474 - val_accuracy: 0.8676\n",
            "Epoch 100/100\n",
            "32/32 [==============================] - 2s 50ms/step - loss: 0.4058 - accuracy: 0.8907 - val_loss: 0.3990 - val_accuracy: 0.8950\n"
          ],
          "name": "stdout"
        }
      ]
    },
    {
      "cell_type": "code",
      "metadata": {
        "colab": {
          "base_uri": "https://localhost:8080/",
          "height": 295
        },
        "id": "ZSnI-haQfjVg",
        "outputId": "94e4f0b1-eb94-4fc2-d874-7f52cdb06224"
      },
      "source": [
        "plt.plot(hist_3.history['loss'])\n",
        "plt.plot(hist_3.history['val_loss'])\n",
        "plt.title('Model loss')\n",
        "plt.ylabel('Loss')\n",
        "plt.xlabel('Epoch')\n",
        "plt.legend(['Train', 'Val'], loc='upper right')\n",
        "plt.ylim(top=1.2, bottom=0)\n",
        "plt.show()"
      ],
      "execution_count": 49,
      "outputs": [
        {
          "output_type": "display_data",
          "data": {
            "image/png": "[encoded data removed]",
            "text/plain": [
              "<Figure size 432x288 with 1 Axes>"
            ]
          },
          "metadata": {
            "tags": [],
            "needs_background": "light"
          }
        }
      ]
    },
    {
      "cell_type": "code",
      "metadata": {
        "colab": {
          "base_uri": "https://localhost:8080/",
          "height": 295
        },
        "id": "t5d3v85Sfl9i",
        "outputId": "09bb9989-c92a-423b-ea92-c313529569d1"
      },
      "source": [
        "plt.plot(hist_3.history['accuracy'])\n",
        "plt.plot(hist_3.history['val_accuracy'])\n",
        "plt.title('Model accuracy')\n",
        "plt.ylabel('Accuracy')\n",
        "plt.xlabel('Epoch')\n",
        "plt.legend(['Train', 'Val'], loc='lower right')\n",
        "plt.show()"
      ],
      "execution_count": 51,
      "outputs": [
        {
          "output_type": "display_data",
          "data": {
            "image/png": "[encoded data removed]",
            "text/plain": [
              "<Figure size 432x288 with 1 Axes>"
            ]
          },
          "metadata": {
            "tags": [],
            "needs_background": "light"
          }
        }
      ]
    },
    {
      "cell_type": "code",
      "metadata": {
        "id": "LVSX2OOlfob5"
      },
      "source": [
        ""
      ],
      "execution_count": 51,
      "outputs": []
    }
  ]
}
