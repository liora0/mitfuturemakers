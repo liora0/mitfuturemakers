{
  "nbformat": 4,
  "nbformat_minor": 0,
  "metadata": {
    "colab": {
      "name": "Day16GenderClassificationVoice.ipynb",
      "provenance": []
    },
    "kernelspec": {
      "name": "python3",
      "display_name": "Python 3"
    },
    "language_info": {
      "name": "python"
    }
  },
  "cells": [
    {
      "cell_type": "code",
      "metadata": {
        "id": "3IsJ3KIuRZVf"
      },
      "source": [
        "import matplotlib.pylab as plt\n",
        "from scipy import interp\n",
        "from sklearn.ensemble import RandomForestClassifier\n",
        "from sklearn.metrics import roc_curve,auc\n",
        "from sklearn.model_selection import StratifiedKFold\n",
        "import matplotlib.patches as patches\n",
        "import numpy as np\n",
        "import pandas as pd\n",
        "\n",
        "df = pd .read_csv('./voice.csv')\n",
        "print(df.columns)\n",
        "label_value_count = df.label.value_counts()\n",
        "print(label_value_count)\n",
        "print(df.info())\n",
        "df.head()"
      ],
      "execution_count": null,
      "outputs": []
    },
    {
      "cell_type": "code",
      "metadata": {
        "id": "wIEd4Y_fRhmY"
      },
      "source": [
        "df.describe()"
      ],
      "execution_count": null,
      "outputs": []
    },
    {
      "cell_type": "code",
      "metadata": {
        "id": "Ia0EmdoNRkx1"
      },
      "source": [
        "from sklearn import preprocessing\n",
        "le = preprocessing.LabelEncoder()\n",
        "df[\"label\"] = le.fit_transform(df[\"label\"])\n",
        "le.classes_"
      ],
      "execution_count": null,
      "outputs": []
    },
    {
      "cell_type": "code",
      "metadata": {
        "id": "1VWbrmsJRnvp"
      },
      "source": [
        "df[:]=preprocessing.MinMaxScaler().fit_transform(df)\n",
        "df.head()"
      ],
      "execution_count": null,
      "outputs": []
    },
    {
      "cell_type": "code",
      "metadata": {
        "id": "U_c26Fg2Rpjl"
      },
      "source": [
        "from sklearn import preprocessing\n",
        "from sklearn.model_selection import train_test_split\n",
        "from sklearn.metrics import accuracy_score\n",
        "\n",
        "from sklearn import neighbors\n",
        "from sklearn import naive_bayes\n",
        "from sklearn import tree\n",
        "from sklearn import ensemble\n",
        "from sklearn import svm\n",
        "from sklearn import neural_network\n",
        "\n",
        "train, test = train_test_split(df, test_size=0.3)"
      ],
      "execution_count": null,
      "outputs": []
    },
    {
      "cell_type": "code",
      "metadata": {
        "id": "CtbmhMNJRrmR"
      },
      "source": [
        "print(train.head())\n",
        "\n",
        "x_train = train.iloc[:, :-1]\n",
        "y_train = train[\"label\"]\n",
        "x_test = test.iloc[:, :-1]\n",
        "y_test = test[\"label\"]\n",
        "\n",
        "x_train3 = train[[\"meanfun\",\"IQR\",\"Q25\"]]\n",
        "y_train3 = train[\"label\"]\n",
        "x_test3 = test[[\"meanfun\",\"IQR\",\"Q25\"]]\n",
        "y_test3 = test[\"label\"]"
      ],
      "execution_count": null,
      "outputs": []
    },
    {
      "cell_type": "code",
      "metadata": {
        "id": "SLr37GleRtp2"
      },
      "source": [
        "def classify(model,x_train,y_train,x_test,y_test):\n",
        "    from sklearn.metrics import classification_report\n",
        "    target_names = ['female', 'male']\n",
        "    model.fit(x_train,y_train)\n",
        "    y_pred=model.predict(x_test)\n",
        "    print(classification_report(y_test, y_pred, target_names=target_names, digits=4))\n",
        "\n",
        "def nn_error(n,x_train,y_train,x_test,y_test):\n",
        "    error_rate = []\n",
        "    hidden_layer=range(1,n)\n",
        "    for i in hidden_layer:\n",
        "        model = neural_network.MLPClassifier(solver='adam', alpha=1e-5, hidden_layer_sizes=i, activation='logistic',random_state=17, max_iter=2000)\n",
        "        model.fit(x_train, y_train)\n",
        "        y_pred = model.predict(x_test)\n",
        "        error_rate.append(np.mean(y_pred != y_test))\n",
        "    kloc = error_rate.index(min(error_rate))\n",
        "    print(\"Lowest error is %s occurs at C=%s.\" % (error_rate[kloc], hidden_layer[kloc]))\n",
        "\n",
        "    plt.plot(hidden_layer, error_rate, color='blue', linestyle='dashed', marker='o',\n",
        "             markerfacecolor='red', markersize=10)\n",
        "    plt.title('Error Rate vs. Hidden Layer Size')\n",
        "    plt.xlabel('Size')\n",
        "    plt.ylabel('Error Rate')\n",
        "    plt.show()\n",
        "    return hidden_layer[kloc]"
      ],
      "execution_count": null,
      "outputs": []
    },
    {
      "cell_type": "code",
      "metadata": {
        "id": "nbrNl1NuRwQX"
      },
      "source": [
        "h=nn_error(20,x_train,y_train,x_test,y_test)\n",
        "model = neural_network.MLPClassifier(solver='adam', alpha=1e-5, hidden_layer_sizes=h, activation='logistic',random_state=17, max_iter=2000)\n",
        "classify(model,x_train,y_train,x_test,y_test)"
      ],
      "execution_count": null,
      "outputs": []
    },
    {
      "cell_type": "code",
      "metadata": {
        "id": "g3XRDbgcR0fQ"
      },
      "source": [
        "h=nn_error(20,x_train3,y_train3,x_test3,y_test3)\n",
        "model = neural_network.MLPClassifier(solver='adam', alpha=1e-5, hidden_layer_sizes=h, activation='logistic',random_state=17, max_iter=2000)\n",
        "classify(model,x_train3,y_train3,x_test3,y_test3)"
      ],
      "execution_count": null,
      "outputs": []
    }
  ]
}